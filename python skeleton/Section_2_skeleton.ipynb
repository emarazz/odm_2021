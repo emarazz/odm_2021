{
 "cells": [
  {
   "cell_type": "markdown",
   "metadata": {},
   "source": [
    "# Section 2"
   ]
  },
  {
   "cell_type": "code",
   "execution_count": 1,
   "metadata": {},
   "outputs": [],
   "source": [
    "import cvxpy as cp\n",
    "import numpy as np\n",
    "import matplotlib.pyplot as plt\n",
    "import pandas as pd\n",
    "from sklearn.model_selection import train_test_split\n",
    "\n",
    "class color:\n",
    "    PURPLE = '\\033[95m'\n",
    "    CYAN = '\\033[96m'\n",
    "    DARKCYAN = '\\033[36m'\n",
    "    BLUE = '\\033[94m'\n",
    "    GREEN = '\\033[92m'\n",
    "    YELLOW = '\\033[93m'\n",
    "    RED = '\\033[91m'\n",
    "    BOLD = '\\033[1m'\n",
    "    UNDERLINE = '\\033[4m'\n",
    "    END = '\\033[0m'"
   ]
  },
  {
   "cell_type": "code",
   "execution_count": 2,
   "metadata": {},
   "outputs": [
    {
     "name": "stdout",
     "output_type": "stream",
     "text": [
      "To use color, just append color.BOLD to the beginning of the printed string and color.END to the end:\n",
      "\u001b[1mLike This!\u001b[0m\n"
     ]
    }
   ],
   "source": [
    "print('To use color, just append color.BOLD to the beginning of the printed string and color.END to the end:')\n",
    "print(color.BOLD + 'Like This!' + color.END)"
   ]
  },
  {
   "cell_type": "markdown",
   "metadata": {},
   "source": [
    "Implement the mean absolute error:\n",
    "$$\n",
    "MAE = \\frac{1}{N}\\sum_{i=1}^N |y_i-x_i^\\top\\theta|\n",
    "$$"
   ]
  },
  {
   "cell_type": "code",
   "execution_count": 3,
   "metadata": {},
   "outputs": [],
   "source": [
    "def get_MAE(theta, X, y):\n",
    "    mae = sum(abs(y - X@theta))/len(y)\n",
    "    return mae"
   ]
  },
  {
   "cell_type": "code",
   "execution_count": 4,
   "metadata": {},
   "outputs": [],
   "source": [
    "from sklearn.datasets import load_diabetes\n",
    "diabetes = load_diabetes()\n",
    "X, X_test, Y, Y_test = train_test_split(diabetes['data'], \n",
    "                                        np.expand_dims(diabetes['target'], 1), \n",
    "                                        test_size=0.5, random_state=0)\n",
    "\n",
    "#adding a bias term\n",
    "X = np.hstack([np.ones([X.shape[0],1]), X])\n",
    "X_test = np.hstack([np.ones([X_test.shape[0],1]), X_test])"
   ]
  },
  {
   "cell_type": "code",
   "execution_count": 6,
   "metadata": {},
   "outputs": [
    {
     "name": "stdout",
     "output_type": "stream",
     "text": [
      ".. _diabetes_dataset:\n",
      "\n",
      "Diabetes dataset\n",
      "----------------\n",
      "\n",
      "Ten baseline variables, age, sex, body mass index, average blood\n",
      "pressure, and six blood serum measurements were obtained for each of n =\n",
      "442 diabetes patients, as well as the response of interest, a\n",
      "quantitative measure of disease progression one year after baseline.\n",
      "\n",
      "**Data Set Characteristics:**\n",
      "\n",
      "  :Number of Instances: 442\n",
      "\n",
      "  :Number of Attributes: First 10 columns are numeric predictive values\n",
      "\n",
      "  :Target: Column 11 is a quantitative measure of disease progression one year after baseline\n",
      "\n",
      "  :Attribute Information:\n",
      "      - age     age in years\n",
      "      - sex\n",
      "      - bmi     body mass index\n",
      "      - bp      average blood pressure\n",
      "      - s1      tc, T-Cells (a type of white blood cells)\n",
      "      - s2      ldl, low-density lipoproteins\n",
      "      - s3      hdl, high-density lipoproteins\n",
      "      - s4      tch, thyroid stimulating hormone\n",
      "      - s5      ltg, lamotrigine\n",
      "      - s6      glu, blood sugar level\n",
      "\n",
      "Note: Each of these 10 feature variables have been mean centered and scaled by the standard deviation times `n_samples` (i.e. the sum of squares of each column totals 1).\n",
      "\n",
      "Source URL:\n",
      "https://www4.stat.ncsu.edu/~boos/var.select/diabetes.html\n",
      "\n",
      "For more information see:\n",
      "Bradley Efron, Trevor Hastie, Iain Johnstone and Robert Tibshirani (2004) \"Least Angle Regression,\" Annals of Statistics (with discussion), 407-499.\n",
      "(https://web.stanford.edu/~hastie/Papers/LARS/LeastAngle_2002.pdf)\n"
     ]
    }
   ],
   "source": [
    "print(diabetes['DESCR'])"
   ]
  },
  {
   "cell_type": "code",
   "execution_count": 7,
   "metadata": {},
   "outputs": [
    {
     "data": {
      "text/plain": [
       "(221, 11)"
      ]
     },
     "execution_count": 7,
     "metadata": {},
     "output_type": "execute_result"
    }
   ],
   "source": [
    "X.shape"
   ]
  },
  {
   "cell_type": "markdown",
   "metadata": {},
   "source": [
    "## Question 2.2\n",
    "Implement below the mean-absolute error regression with LASSO. Use $\\lambda=0.5$. Hints: in the X matrix, rows represent data samples. Also, don't forget to add the `1` column to capture the intercept. (Use the `GLPK` solver)"
   ]
  },
  {
   "cell_type": "code",
   "execution_count": 10,
   "metadata": {},
   "outputs": [
    {
     "data": {
      "text/plain": [
       "120.48642533936652"
      ]
     },
     "execution_count": 10,
     "metadata": {},
     "output_type": "execute_result"
    }
   ],
   "source": [
    "samples_count = X.shape[0]\n",
    "lam =0.5\n",
    "z = cp.Variable((samples_count,1))\n",
    "theta = cp.Variable((X.shape[1],1))\n",
    "\n",
    "constraints = []\n",
    "for i in range(samples_count):\n",
    "    constraints += [Y[i] - X[i] @ theta <= z[i], \n",
    "                   X[i] @ theta - Y[i] <= z[i]]\n",
    "\n",
    "obj = cp.Minimize(cp.sum(z) / samples_count + lam*cp.norm(theta, 1))\n",
    "prob = cp.Problem(obj, constraints)\n",
    "\n",
    "prob.solve(solver=cp.GLPK)"
   ]
  },
  {
   "cell_type": "code",
   "execution_count": 11,
   "metadata": {},
   "outputs": [],
   "source": [
    "theta_final = theta.value"
   ]
  },
  {
   "cell_type": "code",
   "execution_count": 12,
   "metadata": {},
   "outputs": [
    {
     "data": {
      "text/plain": [
       "array([[81.],\n",
       "       [ 0.],\n",
       "       [ 0.],\n",
       "       [ 0.],\n",
       "       [ 0.],\n",
       "       [ 0.],\n",
       "       [ 0.],\n",
       "       [ 0.],\n",
       "       [ 0.],\n",
       "       [ 0.],\n",
       "       [ 0.]])"
      ]
     },
     "execution_count": 12,
     "metadata": {},
     "output_type": "execute_result"
    }
   ],
   "source": [
    "theta_final"
   ]
  },
  {
   "cell_type": "code",
   "execution_count": 13,
   "metadata": {},
   "outputs": [],
   "source": [
    "from sklearn.metrics import mean_absolute_error as mae"
   ]
  },
  {
   "cell_type": "code",
   "execution_count": 16,
   "metadata": {},
   "outputs": [
    {
     "name": "stdout",
     "output_type": "stream",
     "text": [
      "\u001b[1mTraining Results\u001b[0m\n",
      "MAE: 79.98642533936652\n",
      "\n",
      "\n",
      "\u001b[1mTest Results\u001b[0m\n",
      "MAE: 80.3076923076923\n"
     ]
    }
   ],
   "source": [
    "print(color.BOLD + 'Training Results' + color.END)\n",
    "print('MAE: {}'.format(mae(X @ theta_final, Y)))\n",
    "print('\\n')\n",
    "print(color.BOLD + 'Test Results' + color.END)\n",
    "print('MAE: {}'.format(mae(X_test @ theta_final, Y_test)))"
   ]
  },
  {
   "cell_type": "code",
   "execution_count": 15,
   "metadata": {},
   "outputs": [
    {
     "name": "stdout",
     "output_type": "stream",
     "text": [
      "\u001b[1mTraining Results\u001b[0m\n",
      "MAE: [79.98642534]\n",
      "\n",
      "\n",
      "\u001b[1mTest Results\u001b[0m\n",
      "MAE: [80.30769231]\n"
     ]
    }
   ],
   "source": [
    "print(color.BOLD + 'Training Results' + color.END)\n",
    "print('MAE: {}'.format(get_MAE(theta_final, X, Y)))\n",
    "print('\\n')\n",
    "print(color.BOLD + 'Test Results' + color.END)\n",
    "print('MAE: {}'.format(get_MAE(theta_final, X_test, Y_test)))"
   ]
  },
  {
   "cell_type": "markdown",
   "metadata": {},
   "source": [
    "## Question 2.3\n",
    "Implement Cross-Validation for your MAE LASSO regression. You may recycle any functions used above. Hint: Use the `sklearn` function `train_test_split`, which can be used to randomly split the data."
   ]
  },
  {
   "cell_type": "code",
   "execution_count": 23,
   "metadata": {},
   "outputs": [
    {
     "name": "stdout",
     "output_type": "stream",
     "text": [
      "Lambda: 1e-05\n",
      "\u001b[1mTraining Results\u001b[0m\n",
      "MAE: [42.7209946]\n",
      "\u001b[1mTest Results\u001b[0m\n",
      "MAE: [46.55982612]\n",
      "------------------------------\n",
      "Lambda: 1.2067926406393289e-05\n",
      "\u001b[1mTraining Results\u001b[0m\n",
      "MAE: [42.7209946]\n",
      "\u001b[1mTest Results\u001b[0m\n",
      "MAE: [46.55982612]\n",
      "------------------------------\n",
      "Lambda: 1.4563484775012445e-05\n",
      "\u001b[1mTraining Results\u001b[0m\n",
      "MAE: [42.7209946]\n",
      "\u001b[1mTest Results\u001b[0m\n",
      "MAE: [46.55982612]\n",
      "------------------------------\n",
      "Lambda: 1.757510624854793e-05\n",
      "\u001b[1mTraining Results\u001b[0m\n",
      "MAE: [42.7209946]\n",
      "\u001b[1mTest Results\u001b[0m\n",
      "MAE: [46.55982612]\n",
      "------------------------------\n",
      "Lambda: 2.1209508879201926e-05\n",
      "\u001b[1mTraining Results\u001b[0m\n",
      "MAE: [42.7209946]\n",
      "\u001b[1mTest Results\u001b[0m\n",
      "MAE: [46.55982612]\n",
      "------------------------------\n",
      "Lambda: 2.559547922699533e-05\n",
      "\u001b[1mTraining Results\u001b[0m\n",
      "MAE: [42.7209946]\n",
      "\u001b[1mTest Results\u001b[0m\n",
      "MAE: [46.55982612]\n",
      "------------------------------\n",
      "Lambda: 3.0888435964774785e-05\n",
      "\u001b[1mTraining Results\u001b[0m\n",
      "MAE: [42.7209946]\n",
      "\u001b[1mTest Results\u001b[0m\n",
      "MAE: [46.55982612]\n",
      "------------------------------\n",
      "Lambda: 3.727593720314938e-05\n",
      "\u001b[1mTraining Results\u001b[0m\n",
      "MAE: [42.7209946]\n",
      "\u001b[1mTest Results\u001b[0m\n",
      "MAE: [46.55982612]\n",
      "------------------------------\n",
      "Lambda: 4.498432668969444e-05\n",
      "\u001b[1mTraining Results\u001b[0m\n",
      "MAE: [42.71951124]\n",
      "\u001b[1mTest Results\u001b[0m\n",
      "MAE: [46.72170602]\n",
      "------------------------------\n",
      "Lambda: 5.4286754393238594e-05\n",
      "\u001b[1mTraining Results\u001b[0m\n",
      "MAE: [42.72452955]\n",
      "\u001b[1mTest Results\u001b[0m\n",
      "MAE: [46.88834741]\n",
      "------------------------------\n",
      "Lambda: 6.55128556859551e-05\n",
      "\u001b[1mTraining Results\u001b[0m\n",
      "MAE: [42.7306169]\n",
      "\u001b[1mTest Results\u001b[0m\n",
      "MAE: [46.84450987]\n",
      "------------------------------\n",
      "Lambda: 7.906043210907701e-05\n",
      "\u001b[1mTraining Results\u001b[0m\n",
      "MAE: [42.7306169]\n",
      "\u001b[1mTest Results\u001b[0m\n",
      "MAE: [46.84450987]\n",
      "------------------------------\n",
      "Lambda: 9.540954763499944e-05\n",
      "\u001b[1mTraining Results\u001b[0m\n",
      "MAE: [42.7918253]\n",
      "\u001b[1mTest Results\u001b[0m\n",
      "MAE: [46.58487351]\n",
      "------------------------------\n",
      "Lambda: 0.00011513953993264469\n",
      "\u001b[1mTraining Results\u001b[0m\n",
      "MAE: [42.7918253]\n",
      "\u001b[1mTest Results\u001b[0m\n",
      "MAE: [46.58487351]\n",
      "------------------------------\n",
      "Lambda: 0.00013894954943731373\n",
      "\u001b[1mTraining Results\u001b[0m\n",
      "MAE: [42.7918253]\n",
      "\u001b[1mTest Results\u001b[0m\n",
      "MAE: [46.58487351]\n",
      "------------------------------\n",
      "Lambda: 0.00016768329368110067\n",
      "\u001b[1mTraining Results\u001b[0m\n",
      "MAE: [42.7918253]\n",
      "\u001b[1mTest Results\u001b[0m\n",
      "MAE: [46.58487351]\n",
      "------------------------------\n",
      "Lambda: 0.00020235896477251554\n",
      "\u001b[1mTraining Results\u001b[0m\n",
      "MAE: [42.7918253]\n",
      "\u001b[1mTest Results\u001b[0m\n",
      "MAE: [46.58487351]\n",
      "------------------------------\n",
      "Lambda: 0.000244205309454865\n",
      "\u001b[1mTraining Results\u001b[0m\n",
      "MAE: [42.7918253]\n",
      "\u001b[1mTest Results\u001b[0m\n",
      "MAE: [46.58487351]\n",
      "------------------------------\n",
      "Lambda: 0.00029470517025518097\n",
      "\u001b[1mTraining Results\u001b[0m\n",
      "MAE: [42.7918253]\n",
      "\u001b[1mTest Results\u001b[0m\n",
      "MAE: [46.58487351]\n",
      "------------------------------\n",
      "Lambda: 0.00035564803062231287\n",
      "\u001b[1mTraining Results\u001b[0m\n",
      "MAE: [42.78736258]\n",
      "\u001b[1mTest Results\u001b[0m\n",
      "MAE: [46.48617929]\n",
      "------------------------------\n",
      "Lambda: 0.00042919342601287783\n",
      "\u001b[1mTraining Results\u001b[0m\n",
      "MAE: [42.78736258]\n",
      "\u001b[1mTest Results\u001b[0m\n",
      "MAE: [46.48617929]\n",
      "------------------------------\n",
      "Lambda: 0.0005179474679231213\n",
      "\u001b[1mTraining Results\u001b[0m\n",
      "MAE: [42.78736258]\n",
      "\u001b[1mTest Results\u001b[0m\n",
      "MAE: [46.48617929]\n",
      "------------------------------\n",
      "Lambda: 0.0006250551925273969\n",
      "\u001b[1mTraining Results\u001b[0m\n",
      "MAE: [42.88270488]\n",
      "\u001b[1mTest Results\u001b[0m\n",
      "MAE: [45.81736996]\n",
      "------------------------------\n",
      "Lambda: 0.0007543120063354615\n",
      "\u001b[1mTraining Results\u001b[0m\n",
      "MAE: [42.89376057]\n",
      "\u001b[1mTest Results\u001b[0m\n",
      "MAE: [45.38421009]\n",
      "------------------------------\n",
      "Lambda: 0.0009102981779915217\n",
      "\u001b[1mTraining Results\u001b[0m\n",
      "MAE: [42.91196419]\n",
      "\u001b[1mTest Results\u001b[0m\n",
      "MAE: [45.16221733]\n",
      "------------------------------\n",
      "Lambda: 0.0010985411419875584\n",
      "\u001b[1mTraining Results\u001b[0m\n",
      "MAE: [42.91174236]\n",
      "\u001b[1mTest Results\u001b[0m\n",
      "MAE: [45.1584418]\n",
      "------------------------------\n",
      "Lambda: 0.0013257113655901081\n",
      "\u001b[1mTraining Results\u001b[0m\n",
      "MAE: [43.04569002]\n",
      "\u001b[1mTest Results\u001b[0m\n",
      "MAE: [44.61813186]\n",
      "------------------------------\n",
      "Lambda: 0.0015998587196060573\n",
      "\u001b[1mTraining Results\u001b[0m\n",
      "MAE: [43.19436803]\n",
      "\u001b[1mTest Results\u001b[0m\n",
      "MAE: [44.43576705]\n",
      "------------------------------\n",
      "Lambda: 0.0019306977288832496\n",
      "\u001b[1mTraining Results\u001b[0m\n",
      "MAE: [43.20620447]\n",
      "\u001b[1mTest Results\u001b[0m\n",
      "MAE: [44.39889889]\n",
      "------------------------------\n",
      "Lambda: 0.002329951810515372\n",
      "\u001b[1mTraining Results\u001b[0m\n",
      "MAE: [43.34623024]\n",
      "\u001b[1mTest Results\u001b[0m\n",
      "MAE: [44.33129618]\n",
      "------------------------------\n",
      "Lambda: 0.002811768697974228\n",
      "\u001b[1mTraining Results\u001b[0m\n",
      "MAE: [43.41029143]\n",
      "\u001b[1mTest Results\u001b[0m\n",
      "MAE: [44.05134328]\n",
      "------------------------------\n",
      "Lambda: 0.0033932217718953264\n",
      "\u001b[1mTraining Results\u001b[0m\n",
      "MAE: [43.67597879]\n",
      "\u001b[1mTest Results\u001b[0m\n",
      "MAE: [43.93684771]\n",
      "------------------------------\n",
      "Lambda: 0.004094915062380423\n",
      "\u001b[1mTraining Results\u001b[0m\n",
      "MAE: [44.39194587]\n",
      "\u001b[1mTest Results\u001b[0m\n",
      "MAE: [44.49702986]\n",
      "------------------------------\n",
      "Lambda: 0.004941713361323833\n",
      "\u001b[1mTraining Results\u001b[0m\n",
      "MAE: [44.73302604]\n",
      "\u001b[1mTest Results\u001b[0m\n",
      "MAE: [44.58596273]\n",
      "------------------------------\n",
      "Lambda: 0.005963623316594642\n",
      "\u001b[1mTraining Results\u001b[0m\n",
      "MAE: [46.00909997]\n",
      "\u001b[1mTest Results\u001b[0m\n",
      "MAE: [45.04066895]\n",
      "------------------------------\n",
      "Lambda: 0.007196856730011514\n",
      "\u001b[1mTraining Results\u001b[0m\n",
      "MAE: [46.99785806]\n",
      "\u001b[1mTest Results\u001b[0m\n",
      "MAE: [45.74626078]\n",
      "------------------------------\n",
      "Lambda: 0.00868511373751352\n",
      "\u001b[1mTraining Results\u001b[0m\n",
      "MAE: [48.74611405]\n",
      "\u001b[1mTest Results\u001b[0m\n",
      "MAE: [46.91063751]\n",
      "------------------------------\n",
      "Lambda: 0.010481131341546853\n",
      "\u001b[1mTraining Results\u001b[0m\n",
      "MAE: [49.79558529]\n",
      "\u001b[1mTest Results\u001b[0m\n",
      "MAE: [47.67407337]\n",
      "------------------------------\n",
      "Lambda: 0.012648552168552958\n",
      "\u001b[1mTraining Results\u001b[0m\n",
      "MAE: [50.79786978]\n",
      "\u001b[1mTest Results\u001b[0m\n",
      "MAE: [48.34960789]\n",
      "------------------------------\n",
      "Lambda: 0.015264179671752318\n",
      "\u001b[1mTraining Results\u001b[0m\n",
      "MAE: [52.84968135]\n",
      "\u001b[1mTest Results\u001b[0m\n",
      "MAE: [50.28501468]\n",
      "------------------------------\n",
      "Lambda: 0.018420699693267144\n",
      "\u001b[1mTraining Results\u001b[0m\n",
      "MAE: [54.1910814]\n",
      "\u001b[1mTest Results\u001b[0m\n",
      "MAE: [50.82512506]\n",
      "------------------------------\n",
      "Lambda: 0.022229964825261933\n",
      "\u001b[1mTraining Results\u001b[0m\n",
      "MAE: [60.35861775]\n",
      "\u001b[1mTest Results\u001b[0m\n",
      "MAE: [54.21970592]\n",
      "------------------------------\n",
      "Lambda: 0.026826957952797246\n",
      "\u001b[1mTraining Results\u001b[0m\n",
      "MAE: [66.86686786]\n",
      "\u001b[1mTest Results\u001b[0m\n",
      "MAE: [58.60656904]\n",
      "------------------------------\n",
      "Lambda: 0.032374575428176434\n",
      "\u001b[1mTraining Results\u001b[0m\n",
      "MAE: [67.43202417]\n",
      "\u001b[1mTest Results\u001b[0m\n",
      "MAE: [59.10810811]\n",
      "------------------------------\n",
      "Lambda: 0.039069399370546126\n",
      "\u001b[1mTraining Results\u001b[0m\n",
      "MAE: [67.43202417]\n",
      "\u001b[1mTest Results\u001b[0m\n",
      "MAE: [59.10810811]\n",
      "------------------------------\n",
      "Lambda: 0.047148663634573894\n",
      "\u001b[1mTraining Results\u001b[0m\n",
      "MAE: [67.4652568]\n",
      "\u001b[1mTest Results\u001b[0m\n",
      "MAE: [59.27927928]\n",
      "------------------------------\n",
      "Lambda: 0.05689866029018293\n",
      "\u001b[1mTraining Results\u001b[0m\n",
      "MAE: [67.4652568]\n",
      "\u001b[1mTest Results\u001b[0m\n",
      "MAE: [59.27927928]\n",
      "------------------------------\n",
      "Lambda: 0.06866488450042998\n",
      "\u001b[1mTraining Results\u001b[0m\n",
      "MAE: [67.63141994]\n",
      "\u001b[1mTest Results\u001b[0m\n",
      "MAE: [59.86486486]\n",
      "------------------------------\n",
      "Lambda: 0.08286427728546843\n",
      "\u001b[1mTraining Results\u001b[0m\n",
      "MAE: [67.80060423]\n",
      "\u001b[1mTest Results\u001b[0m\n",
      "MAE: [60.33333333]\n",
      "------------------------------\n",
      "Lambda: 0.1\n",
      "\u001b[1mTraining Results\u001b[0m\n",
      "MAE: [68.10574018]\n",
      "\u001b[1mTest Results\u001b[0m\n",
      "MAE: [61.06306306]\n",
      "------------------------------\n"
     ]
    }
   ],
   "source": [
    "\n",
    "X_h, X_h_test, Y_h, Y_h_test = train_test_split(diabetes['data'], \n",
    "                                        np.expand_dims(diabetes['target'], 1), \n",
    "                                        test_size=0.25, random_state=0)\n",
    "\n",
    "\n",
    "#adding a bias term\n",
    "X_h = np.hstack([np.ones([X_h.shape[0],1]),X_h])\n",
    "X_h_test = np.hstack([np.ones([X_h_test.shape[0],1]), X_h_test])\n",
    "\n",
    "lambdas = np.logspace(-5.0, -1.0, num=50)\n",
    "\n",
    "for lam in lambdas:\n",
    "    obj = cp.Minimize(cp.sum(z) / samples_count + lam*cp.norm(theta, 1))\n",
    "    prob = cp.Problem(obj, constraints)\n",
    "    prob.solve(solver=cp.GLPK)\n",
    "        \n",
    "    theta_final = theta.value\n",
    "    \n",
    "    print(\"Lambda: \" + str(lam))\n",
    "    print(color.BOLD + 'Training Results' + color.END)\n",
    "    print('MAE: {}'.format(get_MAE(theta_final, X_h, Y_h)))\n",
    "    print(color.BOLD + 'Test Results' + color.END)\n",
    "    print('MAE: {}'.format(get_MAE(theta_final, X_h_test, Y_h_test)))\n",
    "    print('------------------------------')"
   ]
  },
  {
   "cell_type": "code",
   "execution_count": 32,
   "metadata": {},
   "outputs": [],
   "source": [
    "lam = 0.0033932217718953264\n",
    "obj = cp.Minimize(cp.sum(z) / samples_count + lam*cp.norm(theta, 1))\n",
    "prob = cp.Problem(obj, constraints)\n",
    "\n",
    "prob.solve(solver=cp.GLPK)\n",
    "best_theta = theta.value"
   ]
  },
  {
   "cell_type": "code",
   "execution_count": 33,
   "metadata": {},
   "outputs": [
    {
     "name": "stdout",
     "output_type": "stream",
     "text": [
      "\u001b[1mTraining Results\u001b[0m\n",
      "MAE: [42.47729551]\n",
      "\n",
      "\n",
      "\u001b[1mTest Results\u001b[0m\n",
      "MAE: [45.00568673]\n"
     ]
    }
   ],
   "source": [
    "print(color.BOLD + 'Training Results' + color.END)\n",
    "print('MAE: {}'.format(get_MAE(best_theta, X, Y)))\n",
    "print('\\n')\n",
    "print(color.BOLD + 'Test Results' + color.END)\n",
    "print('MAE: {}'.format(get_MAE(best_theta, X_test, Y_test)))"
   ]
  },
  {
   "cell_type": "code",
   "execution_count": null,
   "metadata": {},
   "outputs": [],
   "source": []
  },
  {
   "cell_type": "code",
   "execution_count": null,
   "metadata": {},
   "outputs": [],
   "source": []
  }
 ],
 "metadata": {
  "kernelspec": {
   "display_name": "Python 3",
   "language": "python",
   "name": "python3"
  },
  "language_info": {
   "codemirror_mode": {
    "name": "ipython",
    "version": 3
   },
   "file_extension": ".py",
   "mimetype": "text/x-python",
   "name": "python",
   "nbconvert_exporter": "python",
   "pygments_lexer": "ipython3",
   "version": "3.8.6rc1"
  }
 },
 "nbformat": 4,
 "nbformat_minor": 4
}
