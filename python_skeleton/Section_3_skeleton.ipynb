{
 "cells": [
  {
   "cell_type": "markdown",
   "metadata": {},
   "source": [
    "# Section 3\n"
   ]
  },
  {
   "cell_type": "code",
   "execution_count": 20,
   "metadata": {},
   "outputs": [],
   "source": [
    "import cvxpy as cp\n",
    "import numpy as np\n",
    "import matplotlib.pyplot as plt\n",
    "\n",
    "class color:\n",
    "    PURPLE = '\\033[95m'\n",
    "    CYAN = '\\033[96m'\n",
    "    DARKCYAN = '\\033[36m'\n",
    "    BLUE = '\\033[94m'\n",
    "    GREEN = '\\033[92m'\n",
    "    YELLOW = '\\033[93m'\n",
    "    RED = '\\033[91m'\n",
    "    BOLD = '\\033[1m'\n",
    "    UNDERLINE = '\\033[4m'\n",
    "    END = '\\033[0m'"
   ]
  },
  {
   "cell_type": "markdown",
   "metadata": {},
   "source": [
    "## Question 4"
   ]
  },
  {
   "cell_type": "markdown",
   "metadata": {},
   "source": [
    "Implement the the linear program obtained by using the convex hull. (Use the `GLPK` solver)"
   ]
  },
  {
   "source": [
    "### Version 1"
   ],
   "cell_type": "markdown",
   "metadata": {}
  },
  {
   "cell_type": "code",
   "execution_count": 21,
   "metadata": {},
   "outputs": [
    {
     "output_type": "execute_result",
     "data": {
      "text/plain": [
       "-2.0"
      ]
     },
     "metadata": {},
     "execution_count": 21
    }
   ],
   "source": [
    "# --------------\n",
    "# Your Code Here\n",
    "# --------------\n",
    "\n",
    "# define the decision variables\n",
    "x = cp.Variable((2,1))\n",
    "theta = cp.Variable((3,1))\n",
    "\n",
    "# define the objective\n",
    "objective = cp.Minimize(-x[0,0]-2*x[1,0])\n",
    "\n",
    "# define the constraints\n",
    "A = np.array([[0,0],[0,1],[1,0]])\n",
    "constraints = [ A.T @ theta == x,\n",
    "                np.ones((3,1)).T @ theta == 1,\n",
    "                theta >= 0]\n",
    "\n",
    "problem = cp.Problem(objective, constraints)\n",
    "#problem.solve()\n",
    "problem.solve(solver=cp.GLPK)"
   ]
  },
  {
   "cell_type": "code",
   "execution_count": 22,
   "metadata": {},
   "outputs": [
    {
     "output_type": "stream",
     "name": "stdout",
     "text": [
      "\u001b[1mOptimal Decision Variables:\u001b[0m\nx1: 0.0\nx2: 1.0\n"
     ]
    }
   ],
   "source": [
    "print(color.BOLD+'Optimal Decision Variables:'+color.END)\n",
    "print('x1: {}'.format(x.value[0, 0]))\n",
    "print('x2: {}'.format(x.value[1, 0]))"
   ]
  },
  {
   "source": [
    "### Version 2"
   ],
   "cell_type": "markdown",
   "metadata": {}
  },
  {
   "cell_type": "code",
   "execution_count": 23,
   "metadata": {},
   "outputs": [
    {
     "output_type": "execute_result",
     "data": {
      "text/plain": [
       "-2.0"
      ]
     },
     "metadata": {},
     "execution_count": 23
    }
   ],
   "source": [
    "# --------------\n",
    "# Your Code Here\n",
    "# --------------\n",
    "\n",
    "# define the decision variables\n",
    "x = cp.Variable((2,1))\n",
    "\n",
    "# define the objective\n",
    "objective = cp.Minimize(-x[0,0]-2*x[1,0])\n",
    "\n",
    "# define the constraints\n",
    "constraints = [x>=0, x[0,0]+x[1,0]<=1]\n",
    "\n",
    "problem = cp.Problem(objective, constraints)\n",
    "#problem.solve()\n",
    "problem.solve(solver=cp.GLPK)"
   ]
  },
  {
   "cell_type": "code",
   "execution_count": 24,
   "metadata": {},
   "outputs": [
    {
     "output_type": "stream",
     "name": "stdout",
     "text": [
      "\u001b[1mOptimal Decision Variables:\u001b[0m\nx1: 0.0\nx2: 1.0\n"
     ]
    }
   ],
   "source": [
    "print(color.BOLD+'Optimal Decision Variables:'+color.END)\n",
    "print('x1: {}'.format(x.value[0, 0]))\n",
    "print('x2: {}'.format(x.value[1, 0]))"
   ]
  }
 ],
 "metadata": {
  "kernelspec": {
   "name": "python394jvsc74a57bd07037165d1dc9434c58016773b81034025e81d1427cfde8d6500cf7bb9db0f138",
   "display_name": "Python 3.9.4 64-bit ('odm_2021': conda)"
  },
  "language_info": {
   "codemirror_mode": {
    "name": "ipython",
    "version": 3
   },
   "file_extension": ".py",
   "mimetype": "text/x-python",
   "name": "python",
   "nbconvert_exporter": "python",
   "pygments_lexer": "ipython3",
   "version": "3.9.4"
  }
 },
 "nbformat": 4,
 "nbformat_minor": 4
}